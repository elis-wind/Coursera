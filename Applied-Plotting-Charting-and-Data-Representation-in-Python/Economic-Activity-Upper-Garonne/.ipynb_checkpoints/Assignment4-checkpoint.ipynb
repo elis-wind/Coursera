{
 "cells": [
  {
   "cell_type": "markdown",
   "metadata": {},
   "source": [
    "# Becoming an independent Data Scientist\n",
    "\n",
    "**State the region and the domain category that your data sets are about (e.g., Chaohu, China and sports or athletics).**\n",
    "\n",
    "*I worked on economic activity in the region of Occitanie, France with a comparison to the region Nouvelle-Aquitaine, France. Both regions form the Big Soust East region of France.*\n",
    "\n",
    "**Create a research question about the domain category and region that you identified.**\n",
    "\n",
    "*I focused on the aerospace activity in both regions listed below, and my research question was: Do these two regions differ significantly in the aerospace industry, in terms of number of technical engineers and R&D engineers in this field.*\n",
    "\n",
    "**Provide at least two links to publicly accessible datasets. These could be links to files such as CSV or Excel files, or links to websites which might have data in tabular form, such as Wikipedia pages.**\n",
    "\n",
    "[*https://www.insee.fr/fr/statistiques/fichier/4293474/lm_cd_donnees_aero_2018.xls*](https://www.insee.fr/fr/statistiques/fichier/4293474/lm_cd_donnees_aero_2018.xls)\n",
    "\n",
    "[*https://www.insee.fr/fr/statistiques/fichier/4293474/Tableau7_RD_innovation.xls*](https://www.insee.fr/fr/statistiques/fichier/4293474/Tableau7_RD_innovation.xls)\n",
    "\n"
   ]
  },
  {
   "cell_type": "code",
   "execution_count": 1,
   "metadata": {},
   "outputs": [],
   "source": [
    "import pandas as pd\n",
    "import numpy as np\n",
    "import seaborn as sns\n",
    "import matplotlib.pyplot as plt\n",
    "%matplotlib notebook"
   ]
  },
  {
   "cell_type": "code",
   "execution_count": 2,
   "metadata": {},
   "outputs": [],
   "source": [
    "import urllib.request\n",
    "\n",
    "url1 = 'https://www.insee.fr/fr/statistiques/fichier/4293474/lm_cd_donnees_aero_2018.xls'\n",
    "url2 = 'https://www.insee.fr/fr/statistiques/fichier/4293474/Tableau7_RD_innovation.xls'"
   ]
  },
  {
   "cell_type": "code",
   "execution_count": 3,
   "metadata": {},
   "outputs": [],
   "source": [
    "#get data for earospace employees\n",
    "aerospace = pd.read_excel(url1, sheet_name = 1,\n",
    "                             skiprows = 2, skipfooter = 16, usecols = [0,4,5], \n",
    "                              names=['Region', 'N of employees', 'Technical Engineers'])\n",
    "\n",
    "\n",
    "aerospace['Persentage of employees engaged in technical activity'] = aerospace['Technical Engineers'] / aerospace['N of employees'] * 100 \n",
    "#aerospace"
   ]
  },
  {
   "cell_type": "code",
   "execution_count": 4,
   "metadata": {},
   "outputs": [],
   "source": [
    "#get data for R&D employees\n",
    "research = pd.read_excel(url2, sheet_name = 1,\n",
    "                            skiprows = 2, skipfooter = 17, usecols = [0,10], \n",
    "                              names=['Region', 'Persentage of employees engaged in R&D activity'])\n",
    "\n",
    "research['Persentage of employees engaged in R&D activity'] = research['Persentage of employees engaged in R&D activity'].str.replace(',','.').astype(np.float64)\n",
    "#research"
   ]
  },
  {
   "cell_type": "code",
   "execution_count": 5,
   "metadata": {},
   "outputs": [],
   "source": [
    "#merge two datasets\n",
    "my_data = aerospace.merge(research, left_index=True, right_index=True, on = 'Region')\n",
    "my_data['R&D Engineers'] = my_data['N of employees'] * my_data['Persentage of employees engaged in R&D activity'] / 100\n",
    "#my_data"
   ]
  },
  {
   "cell_type": "code",
   "execution_count": 6,
   "metadata": {},
   "outputs": [],
   "source": [
    "#get the columns of interest\n",
    "my_data_final = my_data.loc[:,['Region','Technical Engineers','R&D Engineers']]"
   ]
  },
  {
   "cell_type": "code",
   "execution_count": 7,
   "metadata": {},
   "outputs": [],
   "source": [
    "#total average number of employees in both fields\n",
    "total_aerospace_avrg = my_data_final['Technical Engineers'].mean()\n",
    "total_research_avrg = my_data_final['R&D Engineers'].mean()"
   ]
  },
  {
   "cell_type": "code",
   "execution_count": 8,
   "metadata": {},
   "outputs": [],
   "source": [
    "#total average number of employees in both fields per region\n",
    "region_avrg = my_data_final.groupby('Region').mean()"
   ]
  },
  {
   "cell_type": "code",
   "execution_count": 9,
   "metadata": {
    "scrolled": true
   },
   "outputs": [],
   "source": [
    "#final data for the figure\n",
    "region_avrg.reset_index()\n",
    "region_avrg['Region'] = ['Nouvelle-Aquitaine','Occitanie']"
   ]
  },
  {
   "cell_type": "code",
   "execution_count": 10,
   "metadata": {},
   "outputs": [],
   "source": [
    "#melting the data for correct visualization in seaborn\n",
    "data = pd.melt(region_avrg, id_vars = \"Region\", var_name='Activity', value_name='N of employees')"
   ]
  },
  {
   "cell_type": "markdown",
   "metadata": {},
   "source": [
    "**Upload an image which addresses your research question.** \n",
    "\n",
    "**In addition to addressing your research question, this visual should address Cairo's principles of truthfulness, functionality, beauty, and insightfulness.**"
   ]
  },
  {
   "cell_type": "code",
   "execution_count": 12,
   "metadata": {},
   "outputs": [
    {
     "name": "stderr",
     "output_type": "stream",
     "text": [
      "/home/natasha/anaconda3/lib/python3.7/site-packages/seaborn/categorical.py:3666: UserWarning: The `factorplot` function has been renamed to `catplot`. The original name will be removed in a future release. Please update your code. Note that the default `kind` in `factorplot` (`'point'`) has changed `'strip'` in `catplot`.\n",
      "  warnings.warn(msg)\n"
     ]
    },
    {
     "data": {
      "text/plain": [
       "Text(0.5, 1, 'Engineers involved in aerospace activity in the Big Sout East of France')"
      ]
     },
     "execution_count": 12,
     "metadata": {},
     "output_type": "execute_result"
    },
    {
     "data": {
      "text/plain": [
       "<Figure size 720x432 with 0 Axes>"
      ]
     },
     "metadata": {},
     "output_type": "display_data"
    },
    {
     "data": {
      "image/png": "[encoded data removed]",
      "text/plain": [
       "<Figure size 496.734x360 with 1 Axes>"
      ]
     },
     "metadata": {
      "needs_background": "light"
     },
     "output_type": "display_data"
    }
   ],
   "source": [
    "%matplotlib inline\n",
    "plt.figure(figsize=(10,6))\n",
    "plt.clf()\n",
    "\n",
    "sns.factorplot(x = 'Region', y = 'N of employees', hue = 'Activity', data = data, kind = 'bar')\n",
    "plt.axhline(total_aerospace_avrg, zorder=1, color = 'blue', linestyle='dashed')\n",
    "plt.axhline(total_research_avrg, zorder=1, color = 'red', linestyle='dashed')\n",
    "plt.title('Engineers involved in aerospace activity in the Big Sout East of France')"
   ]
  },
  {
   "cell_type": "markdown",
   "metadata": {},
   "source": [
    "**Provide a short (1-2 paragraphs) justification of how your visual addresses your research question.**\n",
    "\n",
    "*This figure gives us a brief overview about engineers involved in technical and R&D tasks within the aerospace industry in two regions in the South of France.\n",
    "It was quite expected that aerospace engineers would be more numerous in Occitanie compared to the Nouvelle Aquitaine, since the Airbus company is present in Toulouse, Occitanie. However, an interesting fact emerges: the number of R&D engineers in both regions is almost equal, slightly higher in Occitanie though.*\n",
    "\n",
    "**As this assignment is for the whole course, you must incorporate and defend the principles discussed in the first week, specifically, Cairo’s principles of truth, beauty, function, and insight.**\n",
    "\n",
    "**For each of the following prompts, please provide a response that links each principle to one or more elements of your visual.** \n",
    "\n",
    "    Describe your design choices for your visual in regards to Cairo's principle of truthfulness.\n",
    "\n",
    "    Describe your design choices for your visual in regards to Cairo's principle of beauty.\n",
    "\n",
    "    Describe your design choices for your visual in regards to Cairo's principle of functionality. \n",
    "\n",
    "    Describe your design choices for your visual in regards to Cairo's principle of insightfulness. \n",
    "\n",
    "- *The figure is quite simple and does not give misleading representations, we had 2 variables of interest in research question, the figure addresses both of them.*\n",
    "- *The figure uses also two colors to differentiate both variables, as well as the average means for both variables*\n",
    "- *The research question concerned the means for 2 variables of interest, so given the data available for this research, a barplot seems to give a good representation.*\n",
    "- *This figure gives us some insights about the number of engineers involved in technical and R&D tasks, as described in the section above.*"
   ]
  },
  {
   "cell_type": "code",
   "execution_count": null,
   "metadata": {},
   "outputs": [],
   "source": []
  }
 ],
 "metadata": {
  "kernelspec": {
   "display_name": "Python 3",
   "language": "python",
   "name": "python3"
  },
  "language_info": {
   "codemirror_mode": {
    "name": "ipython",
    "version": 3
   },
   "file_extension": ".py",
   "mimetype": "text/x-python",
   "name": "python",
   "nbconvert_exporter": "python",
   "pygments_lexer": "ipython3",
   "version": "3.7.4"
  }
 },
 "nbformat": 4,
 "nbformat_minor": 2
}
